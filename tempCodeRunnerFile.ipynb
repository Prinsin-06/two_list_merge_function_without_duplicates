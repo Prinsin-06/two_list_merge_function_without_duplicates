---

start_time = time.time()                   #time start
merge_listss(list1,list2)                  #Function Call
end_time = time.time()                     #time end
elapsed_time = end_time - start_time       #time Taken     
print(f"Execution time: {elapsed_time} seconds")  