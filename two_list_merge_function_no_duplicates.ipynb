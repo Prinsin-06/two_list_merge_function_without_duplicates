{
 "cells": [
  {
   "cell_type": "code",
   "execution_count": 112,
   "id": "efc726f1-98ff-46d3-8a12-7c9608a2491a",
   "metadata": {},
   "outputs": [],
   "source": [
    "# a Python function Merge_Lists(list1, list2) that merges two lists and removes duplicates.\n"
   ]
  },
  {
   "cell_type": "code",
   "execution_count": 113,
   "id": "5ab7fb03",
   "metadata": {},
   "outputs": [],
   "source": [
    "import random\n",
    "import time\n",
    "\n",
    "random.seed(42)\n",
    "l = [random.randint(1,10000) for _ in range(1,30000)]\n",
    "m = [random.randint(99999,109999) for _ in range(1,10000)]"
   ]
  },
  {
   "cell_type": "markdown",
   "id": "41505f23",
   "metadata": {},
   "source": []
  },
  {
   "cell_type": "code",
   "execution_count": 114,
   "id": "663a06a7",
   "metadata": {},
   "outputs": [],
   "source": [
    "# Sorting vs. No Sorting\n",
    "\n",
    "#Sorting the long and short lists is an additional step that may improve efficiency in some cases. For example,\n",
    "    #if the longer list is sorted, iterating the shorter list for searching elements can be faster (e.g., via binary search) compared to unsorted searches.\n",
    "\n",
    "#However, sorting itself takes time, so the overall benefit depends on the context and sizes of the lists.\n",
    "\n",
    "#Also, the interpreter can quickly determine the length of a list (an O(1) operation),\n",
    "    #which is much faster than iterating through the list during operations like membership checks."
   ]
  },
  {
   "cell_type": "markdown",
   "id": "e77f361d-d5cc-49f0-be5f-dc0014e031f5",
   "metadata": {},
   "source": [
    "\n",
    "### Removing duplicates using loop and if-else"
   ]
  },
  {
   "cell_type": "markdown",
   "id": "a63d9db1",
   "metadata": {},
   "source": [
    "##### Without List lenght Sorting"
   ]
  },
  {
   "cell_type": "code",
   "execution_count": 115,
   "id": "dce2794f",
   "metadata": {},
   "outputs": [
    {
     "name": "stdout",
     "output_type": "stream",
     "text": [
      "\n",
      "\n",
      "Execution time, merging both lists using if-esle and loop, without sorting:\n",
      ": 2.571181058883667 seconds\n"
     ]
    }
   ],
   "source": [
    "\n",
    "\n",
    "def Merge_Lists(list1, list2):\n",
    "\n",
    "    # removing duplicate from both lists itself using for loop and if-else\n",
    "    \n",
    "    nodup_list1 = []                                # non-duplicate list\n",
    "    for item in list1:\n",
    "        if item not in nodup_list1:\n",
    "            nodup_list1.append(item)\n",
    "            \n",
    "    nodup_list2 = []                                # non-duplicate list\n",
    "    for item in list2:\n",
    "        if item not in nodup_list2:\n",
    "            nodup_list2.append(item)\n",
    "\n",
    "\n",
    "    #Merge both filtered lists without sorting both lists            \n",
    "    merge_list=[]                          #empty list\n",
    "        \n",
    "    for num in nodup_list1:\n",
    "        if num not in nodup_list2:\n",
    "            merge_list.append(num)\n",
    "\n",
    "    merge_list+=nodup_list2\n",
    "\n",
    "    #return output\n",
    "    return # merge_list\n",
    "\n",
    "\n",
    "# print(\"Merging both lists using if-esle and loop, without sorting:\\n\",Merge_Lists(l,m))       # Function Call / l,m already provided in starting\n",
    "\n",
    "\n",
    "# Time Calculation -------\n",
    "\n",
    "start_time11 = time.time()                   #time start\n",
    "Merge_Lists(l,m)                             #Function Call\n",
    "end_time11 = time.time()                     #time end\n",
    "elapsed_time11 = end_time11 - start_time11       #time Taken     \n",
    "print(f\"\\n\\nExecution time, merging both lists using if-esle and loop, without sorting:\\n: {elapsed_time11} seconds\")      \n",
    "\n",
    "\n",
    "\n",
    "\n"
   ]
  },
  {
   "cell_type": "markdown",
   "id": "bc3944bd",
   "metadata": {},
   "source": [
    "##### With List lenght Sorting"
   ]
  },
  {
   "cell_type": "code",
   "execution_count": 116,
   "id": "dca408d8-3e45-4962-babc-af5cdb25eae4",
   "metadata": {},
   "outputs": [
    {
     "name": "stdout",
     "output_type": "stream",
     "text": [
      "\n",
      "\n",
      "Execution time, merging both lists and sorting using if-esle and loop:\n",
      ": 2.6826672554016113 seconds\n"
     ]
    }
   ],
   "source": [
    "\n",
    "import time\n",
    "\n",
    "\n",
    "def Merge_Lists(list1, list2):\n",
    "\n",
    "    # removing duplicate from both lists itself using for loop and if-else\n",
    "    \n",
    "    nodup_list1 = []                                # non-duplicate list\n",
    "    for item in list1:\n",
    "        if item not in nodup_list1:\n",
    "            nodup_list1.append(item)\n",
    "            \n",
    "    nodup_list2 = []                                # non-duplicate list\n",
    "    for item in list2:\n",
    "        if item not in nodup_list2:\n",
    "            nodup_list2.append(item)\n",
    "\n",
    "\n",
    "\n",
    "    # sorting list on the bases of their lenght\n",
    "    long_list=[]\n",
    "    short_list=[]\n",
    "\n",
    "    if len(nodup_list1)>=len(nodup_list2):   #since both sizes are same, long and short name of list don't matter\n",
    "        long_list = nodup_list1.copy()\n",
    "        short_list = nodup_list2.copy()\n",
    "        \n",
    "    else:\n",
    "        long_list = nodup_list2.copy()\n",
    "        short_list = nodup_list1.copy()\n",
    "\n",
    "\n",
    "    # Merging and fitering any duplicates after merging\n",
    "    merge_list=[]\n",
    "    for num in short_list:                                             #since it knows short list, that's why interpreter will iterate short list over long list\n",
    "        if num not in long_list:\n",
    "            merge_list.append(num)\n",
    "\n",
    "    merge_list+=long_list\n",
    "    \n",
    "    return # merge_list\n",
    "    \n",
    "\n",
    "\n",
    "# print(\"Merging both lists and sorting using if-esle and loop:\\n\",Merge_Lists(l,m))                            # Function Call\n",
    "\n",
    "\n",
    "# Time Calculation -------\n",
    "\n",
    "start_time12 = time.time()                   #time start\n",
    "Merge_Lists(l,m)                  #Function Call\n",
    "end_time12 = time.time()                     #time end\n",
    "elapsed_time12 = end_time12 - start_time12       #time Taken     \n",
    "print(f\"\\n\\nExecution time, merging both lists and sorting using if-esle and loop:\\n: {elapsed_time12} seconds\") "
   ]
  },
  {
   "cell_type": "markdown",
   "id": "141f4419-b0ff-46a2-8a42-4618172a8e71",
   "metadata": {},
   "source": [
    "### Removing duplicates and sorting using Set() "
   ]
  },
  {
   "cell_type": "markdown",
   "id": "19d096de",
   "metadata": {},
   "source": [
    "#### Without List lenght Sorting"
   ]
  },
  {
   "cell_type": "code",
   "execution_count": 117,
   "id": "5990b3ec-770a-4477-950e-0e9db4a0d034",
   "metadata": {},
   "outputs": [
    {
     "name": "stdout",
     "output_type": "stream",
     "text": [
      "\n",
      "\n",
      "Execution time, merging both lists using set(), without sorting:\n",
      ": 0.003556966781616211 seconds\n"
     ]
    }
   ],
   "source": [
    "\n",
    "\n",
    "def Merge_Lists(list1, list2):\n",
    "\n",
    "    # removing duplicate from both lists using set()\n",
    "    \n",
    "    nodup_list1 = list(set(list1))              #changing to set() so duplicate removed that again to list\n",
    "    nodup_list2 = list(set(list2))\n",
    "\n",
    "\n",
    "    #Merge both filtered list without sorting both lists            \n",
    "    merge_list=list(set(nodup_list1+nodup_list2))\n",
    "\n",
    "    #return output\n",
    "    return #merge_list\n",
    "\n",
    "\n",
    "# print(\"Merging both lists using set(), without sorting:\\n\",Merge_Lists(l,m))                            # Function Call\n",
    "\n",
    "\n",
    "# Time Calculation -------\n",
    "\n",
    "start_time21 = time.time()                   #time start\n",
    "Merge_Lists(l,m)                  #Function Call\n",
    "end_time21 = time.time()                     #time end\n",
    "elapsed_time21 = end_time21 - start_time21       #time Taken     \n",
    "print(f\"\\n\\nExecution time, merging both lists using set(), without sorting:\\n: {elapsed_time21} seconds\") "
   ]
  },
  {
   "cell_type": "markdown",
   "id": "13559b93",
   "metadata": {},
   "source": [
    "#### List lenght Sorting"
   ]
  },
  {
   "cell_type": "code",
   "execution_count": 118,
   "id": "0d6bb93d-eab4-4ca6-bf23-c9d16ba6e07b",
   "metadata": {},
   "outputs": [
    {
     "name": "stdout",
     "output_type": "stream",
     "text": [
      "\n",
      "\n",
      "Execution time, merging both lists and sorting using set()\n",
      ": 0.0029947757720947266 seconds\n"
     ]
    }
   ],
   "source": [
    "\n",
    "\n",
    "def Merge_Lists(list1, list2):\n",
    "\n",
    "    # removing duplicate from both lists using set()\n",
    "    \n",
    "    nodup_list1 = list(set(list1))              #changing to set() so duplicate removed that again to list\n",
    "    nodup_list2 = list(set(list2))\n",
    "\n",
    "    ################################################################\n",
    "    # sorting list on the bases of their lenght\n",
    "\n",
    "    # There is no need of sorting like this here, because set() function will merge both list and remove duplicate.\n",
    "    # we need previously sorting because for merging we were using for loop where iteration was happening, and sorting was helpful reducing the time by interating short list.\n",
    "    ################################################################\n",
    "\n",
    "\n",
    "    #Merge both filtered list and sorting both lists using set()            \n",
    "    \n",
    "    merge_list=list(set(nodup_list1+nodup_list2))\n",
    "\n",
    "    #return output\n",
    "    return # merge_list\n",
    "\n",
    "\n",
    "\n",
    "# print(\"Merging both lists and sorting using set():\\n\",Merge_Lists(l,m))                            # Function Call\n",
    "\n",
    "\n",
    "# Time Calculation -------\n",
    "\n",
    "start_time22 = time.time()                   #time start\n",
    "Merge_Lists(l,m)                  #Function Call\n",
    "end_time22 = time.time()                     #time end\n",
    "elapsed_time22 = end_time22 - start_time22       #time Taken     \n",
    "print(f\"\\n\\nExecution time, merging both lists and sorting using set()\\n: {elapsed_time22} seconds\") "
   ]
  },
  {
   "cell_type": "code",
   "execution_count": null,
   "id": "48d22677",
   "metadata": {},
   "outputs": [],
   "source": []
  }
 ],
 "metadata": {
  "kernelspec": {
   "display_name": "Python 3",
   "language": "python",
   "name": "python3"
  },
  "language_info": {
   "codemirror_mode": {
    "name": "ipython",
    "version": 3
   },
   "file_extension": ".py",
   "mimetype": "text/x-python",
   "name": "python",
   "nbconvert_exporter": "python",
   "pygments_lexer": "ipython3",
   "version": "3.13.3"
  }
 },
 "nbformat": 4,
 "nbformat_minor": 5
}
