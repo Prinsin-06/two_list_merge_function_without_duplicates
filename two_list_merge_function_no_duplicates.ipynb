{
 "cells": [
  {
   "cell_type": "code",
   "execution_count": 27,
   "id": "efc726f1-98ff-46d3-8a12-7c9608a2491a",
   "metadata": {},
   "outputs": [],
   "source": [
    "import random\n",
    "list1 = [random.randint(1, 4000) for _ in range(4000)]\n",
    "list2 = [random.randint(1, 1000) for _ in range(1000)]\n"
   ]
  },
  {
   "cell_type": "markdown",
   "id": "e77f361d-d5cc-49f0-be5f-dc0014e031f5",
   "metadata": {},
   "source": [
    "### List lenght Sorting¶"
   ]
  },
  {
   "cell_type": "code",
   "execution_count": 32,
   "id": "dca408d8-3e45-4962-babc-af5cdb25eae4",
   "metadata": {},
   "outputs": [
    {
     "name": "stdout",
     "output_type": "stream",
     "text": [
      "Execution time: 0.06778931617736816 seconds\n"
     ]
    }
   ],
   "source": [
    "# 8 Write a Python function merge_lists(list1, list2) that merges two lists and removes duplicates.\n",
    "import time\n",
    "\n",
    "\n",
    "def merge_lists(list1, list2):\n",
    "\n",
    "    # removing duplicate from both lists itself\n",
    "    s_list1 = list(set(list1))\n",
    "    s_list2 = list(set(list2))\n",
    "\n",
    "    sort_list1 = []                   \n",
    "    for item in s_list1:\n",
    "        if item not in sort_list1:\n",
    "            sort_list1.append(item)\n",
    "            \n",
    "    sort_list2 = []                   \n",
    "    for item in s_list2:\n",
    "        if item not in sort_list2:\n",
    "            sort_list2.append(item)\n",
    "\n",
    "  \n",
    "    \n",
    "#Sorting the long and short lists is an additional step that may improve efficiency in some cases. For example,\n",
    "    #if the longer list is sorted, searching for elements of the shorter list within it can be faster (e.g., via binary search) compared to unsorted searches.\n",
    "\n",
    "#However, sorting itself takes time, so the overall benefit depends on the context and sizes of the lists.\n",
    "\n",
    "#Also, the interpreter can quickly determine the length of a list (an O(1) operation),\n",
    "    #which is much faster than iterating through the list during operations like membership checks.\n",
    "    \n",
    "    long_list=[]\n",
    "    short_list=[]\n",
    "\n",
    "    if len(sort_list1)==len(sort_list2):   #since both sizes are same, long and short name of list don't matter\n",
    "        long_list = sort_list1.copy()\n",
    "        short_list = sort_list2.copy()\n",
    "        \n",
    "    elif len(sort_list1)>len(sort_list2):\n",
    "        long_list = sort_list1.copy()\n",
    "        short_list = sort_list2.copy()\n",
    "    else:\n",
    "        long_list = sort_list1.copy()\n",
    "        short_list = sort_list2.copy()\n",
    "\n",
    "    # Merging and fitering any duplicates after merging\n",
    "    merge_list=[]\n",
    "    for num in short_list:                                             #since it knows short list, that's why interpreter will iterate short list\n",
    "        if not num in long_list: merge_list.append(num)\n",
    "\n",
    "    merge_list+=long_list\n",
    "    \n",
    "    return sort_list1, sort_list2, merge_list\n",
    "    \n",
    "\n",
    "\n",
    "l = [1,2,5]\n",
    "m = [2,3,4]\n",
    "\n",
    "\n",
    "start_time = time.time()         #time start\n",
    "\n",
    "merge_lists(list1,list2)        #Function Call\n",
    "\n",
    "end_time = time.time()           #time end\n",
    "\n",
    "elapsed_time = end_time - start_time\n",
    "print(f\"Execution time: {elapsed_time} seconds\")"
   ]
  },
  {
   "cell_type": "markdown",
   "id": "141f4419-b0ff-46a2-8a42-4618172a8e71",
   "metadata": {},
   "source": [
    "### Without List lenght Sorting"
   ]
  },
  {
   "cell_type": "code",
   "execution_count": 33,
   "id": "5990b3ec-770a-4477-950e-0e9db4a0d034",
   "metadata": {},
   "outputs": [
    {
     "name": "stdout",
     "output_type": "stream",
     "text": [
      "Execution time: 0.10628080368041992 seconds\n"
     ]
    }
   ],
   "source": [
    "\n",
    "\n",
    "def merge_listss(list1, list2):\n",
    "\n",
    "    # removing duplicate from both list itself\n",
    "    s_list1 = list(set(list1))\n",
    "    s_list2 = list(set(list2))\n",
    "\n",
    "    sort_list1 = []                   \n",
    "    for item in s_list1:\n",
    "        if item not in sort_list1:\n",
    "            sort_list1.append(item)\n",
    "            \n",
    "    sort_list2 = []                   \n",
    "    for item in s_list2:\n",
    "        if item not in sort_list2:\n",
    "            sort_list2.append(item)\n",
    "            \n",
    "    merge_list=[]\n",
    "        \n",
    "    for num in sort_list1:\n",
    "        if not num in sort_list2: merge_list.append(num)\n",
    "\n",
    "    merge_list+=sort_list2\n",
    "    return merge_list\n",
    "\n",
    "l = [1,2,5]\n",
    "m = [2,3,4]\n",
    "\n",
    "\n",
    "start_time = time.time()         #time start\n",
    "\n",
    "merge_listss(list1,list2)        #Function Call\n",
    "\n",
    "end_time = time.time()           #time end\n",
    "\n",
    "elapsed_time = end_time - start_time\n",
    "print(f\"Execution time: {elapsed_time} seconds\")"
   ]
  },
  {
   "cell_type": "code",
   "execution_count": null,
   "id": "0d6bb93d-eab4-4ca6-bf23-c9d16ba6e07b",
   "metadata": {},
   "outputs": [],
   "source": []
  }
 ],
 "metadata": {
  "kernelspec": {
   "display_name": "Python 3 (ipykernel)",
   "language": "python",
   "name": "python3"
  },
  "language_info": {
   "codemirror_mode": {
    "name": "ipython",
    "version": 3
   },
   "file_extension": ".py",
   "mimetype": "text/x-python",
   "name": "python",
   "nbconvert_exporter": "python",
   "pygments_lexer": "ipython3",
   "version": "3.13.5"
  }
 },
 "nbformat": 4,
 "nbformat_minor": 5
}
